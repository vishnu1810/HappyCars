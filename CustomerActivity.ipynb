{
 "cells": [
  {
   "cell_type": "code",
   "execution_count": 1,
   "metadata": {},
   "outputs": [],
   "source": [
    "import pandas as pd\n",
    "import numpy as np\n",
    "import seaborn as sns\n",
    "import matplotlib.pyplot as plt"
   ]
  },
  {
   "cell_type": "code",
   "execution_count": 11,
   "metadata": {},
   "outputs": [
    {
     "data": {
      "text/html": [
       "<div>\n",
       "<style scoped>\n",
       "    .dataframe tbody tr th:only-of-type {\n",
       "        vertical-align: middle;\n",
       "    }\n",
       "\n",
       "    .dataframe tbody tr th {\n",
       "        vertical-align: top;\n",
       "    }\n",
       "\n",
       "    .dataframe thead th {\n",
       "        text-align: right;\n",
       "    }\n",
       "</style>\n",
       "<table border=\"1\" class=\"dataframe\">\n",
       "  <thead>\n",
       "    <tr style=\"text-align: right;\">\n",
       "      <th></th>\n",
       "      <th>ActivityID</th>\n",
       "      <th>CustomerID</th>\n",
       "      <th>Date</th>\n",
       "      <th>EventType</th>\n",
       "    </tr>\n",
       "  </thead>\n",
       "  <tbody>\n",
       "    <tr>\n",
       "      <th>0</th>\n",
       "      <td>0</td>\n",
       "      <td>11004</td>\n",
       "      <td>20-01-2003 00:00</td>\n",
       "      <td>Car Sale</td>\n",
       "    </tr>\n",
       "    <tr>\n",
       "      <th>1</th>\n",
       "      <td>1</td>\n",
       "      <td>11004</td>\n",
       "      <td>05-07-2003 00:00</td>\n",
       "      <td>Service - Neutral</td>\n",
       "    </tr>\n",
       "    <tr>\n",
       "      <th>2</th>\n",
       "      <td>2</td>\n",
       "      <td>11004</td>\n",
       "      <td>23-09-2003 00:00</td>\n",
       "      <td>Service - Happy</td>\n",
       "    </tr>\n",
       "    <tr>\n",
       "      <th>3</th>\n",
       "      <td>3</td>\n",
       "      <td>11006</td>\n",
       "      <td>31-01-2004 00:00</td>\n",
       "      <td>Car Sale</td>\n",
       "    </tr>\n",
       "    <tr>\n",
       "      <th>4</th>\n",
       "      <td>4</td>\n",
       "      <td>11006</td>\n",
       "      <td>15-07-2004 00:00</td>\n",
       "      <td>Service - Neutral</td>\n",
       "    </tr>\n",
       "    <tr>\n",
       "      <th>...</th>\n",
       "      <td>...</td>\n",
       "      <td>...</td>\n",
       "      <td>...</td>\n",
       "      <td>...</td>\n",
       "    </tr>\n",
       "    <tr>\n",
       "      <th>49512</th>\n",
       "      <td>49512</td>\n",
       "      <td>29472</td>\n",
       "      <td>27-04-2004 00:00</td>\n",
       "      <td>Customer Loss</td>\n",
       "    </tr>\n",
       "    <tr>\n",
       "      <th>49513</th>\n",
       "      <td>49513</td>\n",
       "      <td>29474</td>\n",
       "      <td>08-05-2005 00:00</td>\n",
       "      <td>Car Sale</td>\n",
       "    </tr>\n",
       "    <tr>\n",
       "      <th>49514</th>\n",
       "      <td>49514</td>\n",
       "      <td>29474</td>\n",
       "      <td>25-06-2005 00:00</td>\n",
       "      <td>Service - Happy</td>\n",
       "    </tr>\n",
       "    <tr>\n",
       "      <th>49515</th>\n",
       "      <td>49515</td>\n",
       "      <td>29474</td>\n",
       "      <td>04-07-2005 00:00</td>\n",
       "      <td>Service - Happy</td>\n",
       "    </tr>\n",
       "    <tr>\n",
       "      <th>49516</th>\n",
       "      <td>49516</td>\n",
       "      <td>29474</td>\n",
       "      <td>29-06-2006 00:00</td>\n",
       "      <td>Customer Loss</td>\n",
       "    </tr>\n",
       "  </tbody>\n",
       "</table>\n",
       "<p>49517 rows × 4 columns</p>\n",
       "</div>"
      ],
      "text/plain": [
       "       ActivityID  CustomerID              Date          EventType\n",
       "0               0       11004  20-01-2003 00:00           Car Sale\n",
       "1               1       11004  05-07-2003 00:00  Service - Neutral\n",
       "2               2       11004  23-09-2003 00:00    Service - Happy\n",
       "3               3       11006  31-01-2004 00:00           Car Sale\n",
       "4               4       11006  15-07-2004 00:00  Service - Neutral\n",
       "...           ...         ...               ...                ...\n",
       "49512       49512       29472  27-04-2004 00:00      Customer Loss\n",
       "49513       49513       29474  08-05-2005 00:00           Car Sale\n",
       "49514       49514       29474  25-06-2005 00:00    Service - Happy\n",
       "49515       49515       29474  04-07-2005 00:00    Service - Happy\n",
       "49516       49516       29474  29-06-2006 00:00      Customer Loss\n",
       "\n",
       "[49517 rows x 4 columns]"
      ]
     },
     "execution_count": 11,
     "metadata": {},
     "output_type": "execute_result"
    }
   ],
   "source": [
    "cadf = pd.read_csv(\"F:\\AI\\csv\\CustomerActivity.csv\")\n",
    "cadf"
   ]
  },
  {
   "cell_type": "code",
   "execution_count": 12,
   "metadata": {},
   "outputs": [
    {
     "data": {
      "text/plain": [
       "ActivityID    0\n",
       "CustomerID    0\n",
       "Date          0\n",
       "EventType     0\n",
       "dtype: int64"
      ]
     },
     "execution_count": 12,
     "metadata": {},
     "output_type": "execute_result"
    }
   ],
   "source": [
    "cadf.isnull().sum()"
   ]
  },
  {
   "cell_type": "code",
   "execution_count": 13,
   "metadata": {},
   "outputs": [],
   "source": [
    "cadf.drop(['ActivityID'], 'columns', inplace = True)"
   ]
  },
  {
   "cell_type": "code",
   "execution_count": 17,
   "metadata": {},
   "outputs": [
    {
     "data": {
      "text/html": [
       "<div>\n",
       "<style scoped>\n",
       "    .dataframe tbody tr th:only-of-type {\n",
       "        vertical-align: middle;\n",
       "    }\n",
       "\n",
       "    .dataframe tbody tr th {\n",
       "        vertical-align: top;\n",
       "    }\n",
       "\n",
       "    .dataframe thead th {\n",
       "        text-align: right;\n",
       "    }\n",
       "</style>\n",
       "<table border=\"1\" class=\"dataframe\">\n",
       "  <thead>\n",
       "    <tr style=\"text-align: right;\">\n",
       "      <th></th>\n",
       "      <th>CustomerID</th>\n",
       "      <th>Date</th>\n",
       "      <th>EventType</th>\n",
       "    </tr>\n",
       "  </thead>\n",
       "  <tbody>\n",
       "    <tr>\n",
       "      <th>0</th>\n",
       "      <td>11004</td>\n",
       "      <td>20-01-2003 00:00</td>\n",
       "      <td>Car Sale</td>\n",
       "    </tr>\n",
       "    <tr>\n",
       "      <th>1</th>\n",
       "      <td>11004</td>\n",
       "      <td>05-07-2003 00:00</td>\n",
       "      <td>Service - Neutral</td>\n",
       "    </tr>\n",
       "    <tr>\n",
       "      <th>2</th>\n",
       "      <td>11004</td>\n",
       "      <td>23-09-2003 00:00</td>\n",
       "      <td>Service - Happy</td>\n",
       "    </tr>\n",
       "    <tr>\n",
       "      <th>3</th>\n",
       "      <td>11006</td>\n",
       "      <td>31-01-2004 00:00</td>\n",
       "      <td>Car Sale</td>\n",
       "    </tr>\n",
       "    <tr>\n",
       "      <th>4</th>\n",
       "      <td>11006</td>\n",
       "      <td>15-07-2004 00:00</td>\n",
       "      <td>Service - Neutral</td>\n",
       "    </tr>\n",
       "    <tr>\n",
       "      <th>...</th>\n",
       "      <td>...</td>\n",
       "      <td>...</td>\n",
       "      <td>...</td>\n",
       "    </tr>\n",
       "    <tr>\n",
       "      <th>49512</th>\n",
       "      <td>29472</td>\n",
       "      <td>27-04-2004 00:00</td>\n",
       "      <td>Customer Loss</td>\n",
       "    </tr>\n",
       "    <tr>\n",
       "      <th>49513</th>\n",
       "      <td>29474</td>\n",
       "      <td>08-05-2005 00:00</td>\n",
       "      <td>Car Sale</td>\n",
       "    </tr>\n",
       "    <tr>\n",
       "      <th>49514</th>\n",
       "      <td>29474</td>\n",
       "      <td>25-06-2005 00:00</td>\n",
       "      <td>Service - Happy</td>\n",
       "    </tr>\n",
       "    <tr>\n",
       "      <th>49515</th>\n",
       "      <td>29474</td>\n",
       "      <td>04-07-2005 00:00</td>\n",
       "      <td>Service - Happy</td>\n",
       "    </tr>\n",
       "    <tr>\n",
       "      <th>49516</th>\n",
       "      <td>29474</td>\n",
       "      <td>29-06-2006 00:00</td>\n",
       "      <td>Customer Loss</td>\n",
       "    </tr>\n",
       "  </tbody>\n",
       "</table>\n",
       "<p>49517 rows × 3 columns</p>\n",
       "</div>"
      ],
      "text/plain": [
       "       CustomerID              Date          EventType\n",
       "0           11004  20-01-2003 00:00           Car Sale\n",
       "1           11004  05-07-2003 00:00  Service - Neutral\n",
       "2           11004  23-09-2003 00:00    Service - Happy\n",
       "3           11006  31-01-2004 00:00           Car Sale\n",
       "4           11006  15-07-2004 00:00  Service - Neutral\n",
       "...           ...               ...                ...\n",
       "49512       29472  27-04-2004 00:00      Customer Loss\n",
       "49513       29474  08-05-2005 00:00           Car Sale\n",
       "49514       29474  25-06-2005 00:00    Service - Happy\n",
       "49515       29474  04-07-2005 00:00    Service - Happy\n",
       "49516       29474  29-06-2006 00:00      Customer Loss\n",
       "\n",
       "[49517 rows x 3 columns]"
      ]
     },
     "execution_count": 17,
     "metadata": {},
     "output_type": "execute_result"
    }
   ],
   "source": [
    "cadf"
   ]
  },
  {
   "cell_type": "code",
   "execution_count": 18,
   "metadata": {},
   "outputs": [],
   "source": [
    "cadf['Date'] = pd.to_datetime(cadf['Date'])"
   ]
  },
  {
   "cell_type": "code",
   "execution_count": 19,
   "metadata": {},
   "outputs": [
    {
     "data": {
      "text/html": [
       "<div>\n",
       "<style scoped>\n",
       "    .dataframe tbody tr th:only-of-type {\n",
       "        vertical-align: middle;\n",
       "    }\n",
       "\n",
       "    .dataframe tbody tr th {\n",
       "        vertical-align: top;\n",
       "    }\n",
       "\n",
       "    .dataframe thead th {\n",
       "        text-align: right;\n",
       "    }\n",
       "</style>\n",
       "<table border=\"1\" class=\"dataframe\">\n",
       "  <thead>\n",
       "    <tr style=\"text-align: right;\">\n",
       "      <th></th>\n",
       "      <th>CustomerID</th>\n",
       "      <th>Date</th>\n",
       "      <th>EventType</th>\n",
       "    </tr>\n",
       "  </thead>\n",
       "  <tbody>\n",
       "    <tr>\n",
       "      <th>0</th>\n",
       "      <td>11004</td>\n",
       "      <td>2003-01-20</td>\n",
       "      <td>Car Sale</td>\n",
       "    </tr>\n",
       "    <tr>\n",
       "      <th>1</th>\n",
       "      <td>11004</td>\n",
       "      <td>2003-05-07</td>\n",
       "      <td>Service - Neutral</td>\n",
       "    </tr>\n",
       "    <tr>\n",
       "      <th>2</th>\n",
       "      <td>11004</td>\n",
       "      <td>2003-09-23</td>\n",
       "      <td>Service - Happy</td>\n",
       "    </tr>\n",
       "    <tr>\n",
       "      <th>3</th>\n",
       "      <td>11006</td>\n",
       "      <td>2004-01-31</td>\n",
       "      <td>Car Sale</td>\n",
       "    </tr>\n",
       "    <tr>\n",
       "      <th>4</th>\n",
       "      <td>11006</td>\n",
       "      <td>2004-07-15</td>\n",
       "      <td>Service - Neutral</td>\n",
       "    </tr>\n",
       "    <tr>\n",
       "      <th>...</th>\n",
       "      <td>...</td>\n",
       "      <td>...</td>\n",
       "      <td>...</td>\n",
       "    </tr>\n",
       "    <tr>\n",
       "      <th>49512</th>\n",
       "      <td>29472</td>\n",
       "      <td>2004-04-27</td>\n",
       "      <td>Customer Loss</td>\n",
       "    </tr>\n",
       "    <tr>\n",
       "      <th>49513</th>\n",
       "      <td>29474</td>\n",
       "      <td>2005-08-05</td>\n",
       "      <td>Car Sale</td>\n",
       "    </tr>\n",
       "    <tr>\n",
       "      <th>49514</th>\n",
       "      <td>29474</td>\n",
       "      <td>2005-06-25</td>\n",
       "      <td>Service - Happy</td>\n",
       "    </tr>\n",
       "    <tr>\n",
       "      <th>49515</th>\n",
       "      <td>29474</td>\n",
       "      <td>2005-04-07</td>\n",
       "      <td>Service - Happy</td>\n",
       "    </tr>\n",
       "    <tr>\n",
       "      <th>49516</th>\n",
       "      <td>29474</td>\n",
       "      <td>2006-06-29</td>\n",
       "      <td>Customer Loss</td>\n",
       "    </tr>\n",
       "  </tbody>\n",
       "</table>\n",
       "<p>49517 rows × 3 columns</p>\n",
       "</div>"
      ],
      "text/plain": [
       "       CustomerID       Date          EventType\n",
       "0           11004 2003-01-20           Car Sale\n",
       "1           11004 2003-05-07  Service - Neutral\n",
       "2           11004 2003-09-23    Service - Happy\n",
       "3           11006 2004-01-31           Car Sale\n",
       "4           11006 2004-07-15  Service - Neutral\n",
       "...           ...        ...                ...\n",
       "49512       29472 2004-04-27      Customer Loss\n",
       "49513       29474 2005-08-05           Car Sale\n",
       "49514       29474 2005-06-25    Service - Happy\n",
       "49515       29474 2005-04-07    Service - Happy\n",
       "49516       29474 2006-06-29      Customer Loss\n",
       "\n",
       "[49517 rows x 3 columns]"
      ]
     },
     "execution_count": 19,
     "metadata": {},
     "output_type": "execute_result"
    }
   ],
   "source": [
    "cadf"
   ]
  },
  {
   "cell_type": "code",
   "execution_count": 23,
   "metadata": {},
   "outputs": [
    {
     "data": {
      "text/plain": [
       "<seaborn.axisgrid.FacetGrid at 0x27806650700>"
      ]
     },
     "execution_count": 23,
     "metadata": {},
     "output_type": "execute_result"
    },
    {
     "data": {
      "text/plain": [
       "<Figure size 10000x4000 with 0 Axes>"
      ]
     },
     "metadata": {},
     "output_type": "display_data"
    },
    {
     "data": {
      "image/png": "[encoded data removed]",
      "text/plain": [
       "<Figure size 360x360 with 1 Axes>"
      ]
     },
     "metadata": {
      "needs_background": "light"
     },
     "output_type": "display_data"
    }
   ],
   "source": [
    "plt.figure(figsize=(20,8),dpi=500)\n",
    "sns.displot(data=cadf,x='EventType',kde=True)"
   ]
  },
  {
   "cell_type": "code",
   "execution_count": null,
   "metadata": {},
   "outputs": [],
   "source": []
  }
 ],
 "metadata": {
  "kernelspec": {
   "display_name": "Python 3",
   "language": "python",
   "name": "python3"
  },
  "language_info": {
   "codemirror_mode": {
    "name": "ipython",
    "version": 3
   },
   "file_extension": ".py",
   "mimetype": "text/x-python",
   "name": "python",
   "nbconvert_exporter": "python",
   "pygments_lexer": "ipython3",
   "version": "3.8.5"
  }
 },
 "nbformat": 4,
 "nbformat_minor": 4
}
