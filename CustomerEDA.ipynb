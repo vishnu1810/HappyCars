{
 "cells": [
  {
   "cell_type": "code",
   "execution_count": 1,
   "metadata": {},
   "outputs": [],
   "source": [
    "import pandas as pd\n",
    "import numpy as np\n",
    "import seaborn as sns\n",
    "import matplotlib.pyplot as plt"
   ]
  },
  {
   "cell_type": "code",
   "execution_count": 2,
   "metadata": {},
   "outputs": [],
   "source": [
    "data = pd.read_csv(\"F:\\AI\\csv\\Customers.csv\")"
   ]
  },
  {
   "cell_type": "code",
   "execution_count": 3,
   "metadata": {},
   "outputs": [
    {
     "data": {
      "text/html": [
       "<div>\n",
       "<style scoped>\n",
       "    .dataframe tbody tr th:only-of-type {\n",
       "        vertical-align: middle;\n",
       "    }\n",
       "\n",
       "    .dataframe tbody tr th {\n",
       "        vertical-align: top;\n",
       "    }\n",
       "\n",
       "    .dataframe thead th {\n",
       "        text-align: right;\n",
       "    }\n",
       "</style>\n",
       "<table border=\"1\" class=\"dataframe\">\n",
       "  <thead>\n",
       "    <tr style=\"text-align: right;\">\n",
       "      <th></th>\n",
       "      <th>CustomerID</th>\n",
       "      <th>FirstName</th>\n",
       "      <th>LastName</th>\n",
       "      <th>BirthDate</th>\n",
       "      <th>MaritalStatus</th>\n",
       "      <th>YearlyIncome</th>\n",
       "      <th>Gender</th>\n",
       "      <th>TotalChildren</th>\n",
       "      <th>NumberChildrenAtHome</th>\n",
       "      <th>Education</th>\n",
       "      <th>Occupation</th>\n",
       "      <th>HomeOwner</th>\n",
       "      <th>CommuteDistance</th>\n",
       "      <th>NumberOfPurchases</th>\n",
       "      <th>ProfitGenerated</th>\n",
       "    </tr>\n",
       "  </thead>\n",
       "  <tbody>\n",
       "    <tr>\n",
       "      <th>0</th>\n",
       "      <td>11004</td>\n",
       "      <td>Elizabeth</td>\n",
       "      <td>Johnson</td>\n",
       "      <td>08-08-1968 00:00</td>\n",
       "      <td>S</td>\n",
       "      <td>75001-100000</td>\n",
       "      <td>F</td>\n",
       "      <td>5</td>\n",
       "      <td>5</td>\n",
       "      <td>Bachelors</td>\n",
       "      <td>Professional</td>\n",
       "      <td>True</td>\n",
       "      <td>1-2 Miles</td>\n",
       "      <td>5</td>\n",
       "      <td>10351.6657</td>\n",
       "    </tr>\n",
       "    <tr>\n",
       "      <th>1</th>\n",
       "      <td>11006</td>\n",
       "      <td>Janet</td>\n",
       "      <td>Alvarez</td>\n",
       "      <td>06-12-1965 00:00</td>\n",
       "      <td>S</td>\n",
       "      <td>50001-75000</td>\n",
       "      <td>F</td>\n",
       "      <td>0</td>\n",
       "      <td>0</td>\n",
       "      <td>Bachelors</td>\n",
       "      <td>Professional</td>\n",
       "      <td>True</td>\n",
       "      <td>5-10 Miles</td>\n",
       "      <td>1</td>\n",
       "      <td>25636.9867</td>\n",
       "    </tr>\n",
       "    <tr>\n",
       "      <th>2</th>\n",
       "      <td>11007</td>\n",
       "      <td>Marco</td>\n",
       "      <td>Mehta</td>\n",
       "      <td>09-05-1964 00:00</td>\n",
       "      <td>M</td>\n",
       "      <td>50001-75000</td>\n",
       "      <td>M</td>\n",
       "      <td>3</td>\n",
       "      <td>3</td>\n",
       "      <td>Bachelors</td>\n",
       "      <td>Professional</td>\n",
       "      <td>True</td>\n",
       "      <td>0-1 Miles</td>\n",
       "      <td>2</td>\n",
       "      <td>9221.5725</td>\n",
       "    </tr>\n",
       "    <tr>\n",
       "      <th>3</th>\n",
       "      <td>11008</td>\n",
       "      <td>Rob</td>\n",
       "      <td>Verhoff</td>\n",
       "      <td>07-07-1964 00:00</td>\n",
       "      <td>S</td>\n",
       "      <td>50001-75000</td>\n",
       "      <td>F</td>\n",
       "      <td>4</td>\n",
       "      <td>4</td>\n",
       "      <td>Bachelors</td>\n",
       "      <td>Professional</td>\n",
       "      <td>True</td>\n",
       "      <td>10+ Miles</td>\n",
       "      <td>3</td>\n",
       "      <td>16556.0652</td>\n",
       "    </tr>\n",
       "    <tr>\n",
       "      <th>4</th>\n",
       "      <td>11009</td>\n",
       "      <td>Shannon</td>\n",
       "      <td>Carlson</td>\n",
       "      <td>01-04-1964 00:00</td>\n",
       "      <td>S</td>\n",
       "      <td>50001-75000</td>\n",
       "      <td>M</td>\n",
       "      <td>0</td>\n",
       "      <td>0</td>\n",
       "      <td>Bachelors</td>\n",
       "      <td>Professional</td>\n",
       "      <td>False</td>\n",
       "      <td>5-10 Miles</td>\n",
       "      <td>1</td>\n",
       "      <td>27955.7062</td>\n",
       "    </tr>\n",
       "  </tbody>\n",
       "</table>\n",
       "</div>"
      ],
      "text/plain": [
       "   CustomerID  FirstName LastName         BirthDate MaritalStatus  \\\n",
       "0       11004  Elizabeth  Johnson  08-08-1968 00:00             S   \n",
       "1       11006      Janet  Alvarez  06-12-1965 00:00             S   \n",
       "2       11007      Marco    Mehta  09-05-1964 00:00             M   \n",
       "3       11008        Rob  Verhoff  07-07-1964 00:00             S   \n",
       "4       11009    Shannon  Carlson  01-04-1964 00:00             S   \n",
       "\n",
       "   YearlyIncome Gender  TotalChildren  NumberChildrenAtHome   Education  \\\n",
       "0  75001-100000      F              5                     5  Bachelors    \n",
       "1   50001-75000      F              0                     0  Bachelors    \n",
       "2   50001-75000      M              3                     3  Bachelors    \n",
       "3   50001-75000      F              4                     4  Bachelors    \n",
       "4   50001-75000      M              0                     0  Bachelors    \n",
       "\n",
       "     Occupation  HomeOwner CommuteDistance  NumberOfPurchases  ProfitGenerated  \n",
       "0  Professional       True       1-2 Miles                  5       10351.6657  \n",
       "1  Professional       True      5-10 Miles                  1       25636.9867  \n",
       "2  Professional       True       0-1 Miles                  2        9221.5725  \n",
       "3  Professional       True       10+ Miles                  3       16556.0652  \n",
       "4  Professional      False      5-10 Miles                  1       27955.7062  "
      ]
     },
     "execution_count": 3,
     "metadata": {},
     "output_type": "execute_result"
    }
   ],
   "source": [
    "data.head()"
   ]
  },
  {
   "cell_type": "code",
   "execution_count": 4,
   "metadata": {},
   "outputs": [],
   "source": [
    "data.drop(['CustomerID'], axis = 1, inplace = True)"
   ]
  },
  {
   "cell_type": "code",
   "execution_count": 5,
   "metadata": {},
   "outputs": [
    {
     "data": {
      "text/html": [
       "<div>\n",
       "<style scoped>\n",
       "    .dataframe tbody tr th:only-of-type {\n",
       "        vertical-align: middle;\n",
       "    }\n",
       "\n",
       "    .dataframe tbody tr th {\n",
       "        vertical-align: top;\n",
       "    }\n",
       "\n",
       "    .dataframe thead th {\n",
       "        text-align: right;\n",
       "    }\n",
       "</style>\n",
       "<table border=\"1\" class=\"dataframe\">\n",
       "  <thead>\n",
       "    <tr style=\"text-align: right;\">\n",
       "      <th></th>\n",
       "      <th>FirstName</th>\n",
       "      <th>LastName</th>\n",
       "      <th>BirthDate</th>\n",
       "      <th>MaritalStatus</th>\n",
       "      <th>YearlyIncome</th>\n",
       "      <th>Gender</th>\n",
       "      <th>TotalChildren</th>\n",
       "      <th>NumberChildrenAtHome</th>\n",
       "      <th>Education</th>\n",
       "      <th>Occupation</th>\n",
       "      <th>HomeOwner</th>\n",
       "      <th>CommuteDistance</th>\n",
       "      <th>NumberOfPurchases</th>\n",
       "      <th>ProfitGenerated</th>\n",
       "    </tr>\n",
       "  </thead>\n",
       "  <tbody>\n",
       "    <tr>\n",
       "      <th>0</th>\n",
       "      <td>Elizabeth</td>\n",
       "      <td>Johnson</td>\n",
       "      <td>08-08-1968 00:00</td>\n",
       "      <td>S</td>\n",
       "      <td>75001-100000</td>\n",
       "      <td>F</td>\n",
       "      <td>5</td>\n",
       "      <td>5</td>\n",
       "      <td>Bachelors</td>\n",
       "      <td>Professional</td>\n",
       "      <td>True</td>\n",
       "      <td>1-2 Miles</td>\n",
       "      <td>5</td>\n",
       "      <td>10351.6657</td>\n",
       "    </tr>\n",
       "    <tr>\n",
       "      <th>1</th>\n",
       "      <td>Janet</td>\n",
       "      <td>Alvarez</td>\n",
       "      <td>06-12-1965 00:00</td>\n",
       "      <td>S</td>\n",
       "      <td>50001-75000</td>\n",
       "      <td>F</td>\n",
       "      <td>0</td>\n",
       "      <td>0</td>\n",
       "      <td>Bachelors</td>\n",
       "      <td>Professional</td>\n",
       "      <td>True</td>\n",
       "      <td>5-10 Miles</td>\n",
       "      <td>1</td>\n",
       "      <td>25636.9867</td>\n",
       "    </tr>\n",
       "    <tr>\n",
       "      <th>2</th>\n",
       "      <td>Marco</td>\n",
       "      <td>Mehta</td>\n",
       "      <td>09-05-1964 00:00</td>\n",
       "      <td>M</td>\n",
       "      <td>50001-75000</td>\n",
       "      <td>M</td>\n",
       "      <td>3</td>\n",
       "      <td>3</td>\n",
       "      <td>Bachelors</td>\n",
       "      <td>Professional</td>\n",
       "      <td>True</td>\n",
       "      <td>0-1 Miles</td>\n",
       "      <td>2</td>\n",
       "      <td>9221.5725</td>\n",
       "    </tr>\n",
       "    <tr>\n",
       "      <th>3</th>\n",
       "      <td>Rob</td>\n",
       "      <td>Verhoff</td>\n",
       "      <td>07-07-1964 00:00</td>\n",
       "      <td>S</td>\n",
       "      <td>50001-75000</td>\n",
       "      <td>F</td>\n",
       "      <td>4</td>\n",
       "      <td>4</td>\n",
       "      <td>Bachelors</td>\n",
       "      <td>Professional</td>\n",
       "      <td>True</td>\n",
       "      <td>10+ Miles</td>\n",
       "      <td>3</td>\n",
       "      <td>16556.0652</td>\n",
       "    </tr>\n",
       "    <tr>\n",
       "      <th>4</th>\n",
       "      <td>Shannon</td>\n",
       "      <td>Carlson</td>\n",
       "      <td>01-04-1964 00:00</td>\n",
       "      <td>S</td>\n",
       "      <td>50001-75000</td>\n",
       "      <td>M</td>\n",
       "      <td>0</td>\n",
       "      <td>0</td>\n",
       "      <td>Bachelors</td>\n",
       "      <td>Professional</td>\n",
       "      <td>False</td>\n",
       "      <td>5-10 Miles</td>\n",
       "      <td>1</td>\n",
       "      <td>27955.7062</td>\n",
       "    </tr>\n",
       "    <tr>\n",
       "      <th>...</th>\n",
       "      <td>...</td>\n",
       "      <td>...</td>\n",
       "      <td>...</td>\n",
       "      <td>...</td>\n",
       "      <td>...</td>\n",
       "      <td>...</td>\n",
       "      <td>...</td>\n",
       "      <td>...</td>\n",
       "      <td>...</td>\n",
       "      <td>...</td>\n",
       "      <td>...</td>\n",
       "      <td>...</td>\n",
       "      <td>...</td>\n",
       "      <td>...</td>\n",
       "    </tr>\n",
       "    <tr>\n",
       "      <th>9995</th>\n",
       "      <td>Marco</td>\n",
       "      <td>Malhotra</td>\n",
       "      <td>04-05-1977 00:00</td>\n",
       "      <td>S</td>\n",
       "      <td>0-25000</td>\n",
       "      <td>M</td>\n",
       "      <td>0</td>\n",
       "      <td>0</td>\n",
       "      <td>High School</td>\n",
       "      <td>Manual</td>\n",
       "      <td>False</td>\n",
       "      <td>2-5 Miles</td>\n",
       "      <td>1</td>\n",
       "      <td>3260.0490</td>\n",
       "    </tr>\n",
       "    <tr>\n",
       "      <th>9996</th>\n",
       "      <td>Andres</td>\n",
       "      <td>Chander</td>\n",
       "      <td>15-03-1977 00:00</td>\n",
       "      <td>M</td>\n",
       "      <td>0-25000</td>\n",
       "      <td>M</td>\n",
       "      <td>0</td>\n",
       "      <td>0</td>\n",
       "      <td>High School</td>\n",
       "      <td>Manual</td>\n",
       "      <td>False</td>\n",
       "      <td>0-1 Miles</td>\n",
       "      <td>2</td>\n",
       "      <td>1966.8401</td>\n",
       "    </tr>\n",
       "    <tr>\n",
       "      <th>9997</th>\n",
       "      <td>Nathan</td>\n",
       "      <td>Roberts</td>\n",
       "      <td>25-08-1960 00:00</td>\n",
       "      <td>S</td>\n",
       "      <td>0-25000</td>\n",
       "      <td>M</td>\n",
       "      <td>1</td>\n",
       "      <td>1</td>\n",
       "      <td>High School</td>\n",
       "      <td>Manual</td>\n",
       "      <td>False</td>\n",
       "      <td>1-2 Miles</td>\n",
       "      <td>1</td>\n",
       "      <td>1934.2584</td>\n",
       "    </tr>\n",
       "    <tr>\n",
       "      <th>9998</th>\n",
       "      <td>Lacey</td>\n",
       "      <td>Sharma</td>\n",
       "      <td>14-03-1960 00:00</td>\n",
       "      <td>M</td>\n",
       "      <td>0-25000</td>\n",
       "      <td>F</td>\n",
       "      <td>1</td>\n",
       "      <td>1</td>\n",
       "      <td>High School</td>\n",
       "      <td>Manual</td>\n",
       "      <td>False</td>\n",
       "      <td>1-2 Miles</td>\n",
       "      <td>1</td>\n",
       "      <td>1154.3211</td>\n",
       "    </tr>\n",
       "    <tr>\n",
       "      <th>9999</th>\n",
       "      <td>Jaime</td>\n",
       "      <td>Raje</td>\n",
       "      <td>04-10-1959 00:00</td>\n",
       "      <td>M</td>\n",
       "      <td>0-25000</td>\n",
       "      <td>M</td>\n",
       "      <td>2</td>\n",
       "      <td>0</td>\n",
       "      <td>Partial College</td>\n",
       "      <td>Manual</td>\n",
       "      <td>False</td>\n",
       "      <td>0-1 Miles</td>\n",
       "      <td>1</td>\n",
       "      <td>1601.0582</td>\n",
       "    </tr>\n",
       "  </tbody>\n",
       "</table>\n",
       "<p>10000 rows × 14 columns</p>\n",
       "</div>"
      ],
      "text/plain": [
       "      FirstName  LastName         BirthDate MaritalStatus  YearlyIncome  \\\n",
       "0     Elizabeth   Johnson  08-08-1968 00:00             S  75001-100000   \n",
       "1         Janet   Alvarez  06-12-1965 00:00             S   50001-75000   \n",
       "2         Marco     Mehta  09-05-1964 00:00             M   50001-75000   \n",
       "3           Rob   Verhoff  07-07-1964 00:00             S   50001-75000   \n",
       "4       Shannon   Carlson  01-04-1964 00:00             S   50001-75000   \n",
       "...         ...       ...               ...           ...           ...   \n",
       "9995      Marco  Malhotra  04-05-1977 00:00             S       0-25000   \n",
       "9996     Andres   Chander  15-03-1977 00:00             M       0-25000   \n",
       "9997     Nathan   Roberts  25-08-1960 00:00             S       0-25000   \n",
       "9998      Lacey    Sharma  14-03-1960 00:00             M       0-25000   \n",
       "9999      Jaime      Raje  04-10-1959 00:00             M       0-25000   \n",
       "\n",
       "     Gender  TotalChildren  NumberChildrenAtHome        Education  \\\n",
       "0         F              5                     5       Bachelors    \n",
       "1         F              0                     0       Bachelors    \n",
       "2         M              3                     3       Bachelors    \n",
       "3         F              4                     4       Bachelors    \n",
       "4         M              0                     0       Bachelors    \n",
       "...     ...            ...                   ...              ...   \n",
       "9995      M              0                     0      High School   \n",
       "9996      M              0                     0      High School   \n",
       "9997      M              1                     1      High School   \n",
       "9998      F              1                     1      High School   \n",
       "9999      M              2                     0  Partial College   \n",
       "\n",
       "        Occupation  HomeOwner CommuteDistance  NumberOfPurchases  \\\n",
       "0     Professional       True       1-2 Miles                  5   \n",
       "1     Professional       True      5-10 Miles                  1   \n",
       "2     Professional       True       0-1 Miles                  2   \n",
       "3     Professional       True       10+ Miles                  3   \n",
       "4     Professional      False      5-10 Miles                  1   \n",
       "...            ...        ...             ...                ...   \n",
       "9995        Manual      False       2-5 Miles                  1   \n",
       "9996        Manual      False       0-1 Miles                  2   \n",
       "9997        Manual      False       1-2 Miles                  1   \n",
       "9998        Manual      False       1-2 Miles                  1   \n",
       "9999        Manual      False       0-1 Miles                  1   \n",
       "\n",
       "      ProfitGenerated  \n",
       "0          10351.6657  \n",
       "1          25636.9867  \n",
       "2           9221.5725  \n",
       "3          16556.0652  \n",
       "4          27955.7062  \n",
       "...               ...  \n",
       "9995        3260.0490  \n",
       "9996        1966.8401  \n",
       "9997        1934.2584  \n",
       "9998        1154.3211  \n",
       "9999        1601.0582  \n",
       "\n",
       "[10000 rows x 14 columns]"
      ]
     },
     "execution_count": 5,
     "metadata": {},
     "output_type": "execute_result"
    }
   ],
   "source": [
    "data"
   ]
  },
  {
   "cell_type": "code",
   "execution_count": 6,
   "metadata": {},
   "outputs": [],
   "source": [
    "data.drop(['FirstName','LastName'], axis = 1, inplace = True)"
   ]
  },
  {
   "cell_type": "code",
   "execution_count": 7,
   "metadata": {},
   "outputs": [
    {
     "data": {
      "text/html": [
       "<div>\n",
       "<style scoped>\n",
       "    .dataframe tbody tr th:only-of-type {\n",
       "        vertical-align: middle;\n",
       "    }\n",
       "\n",
       "    .dataframe tbody tr th {\n",
       "        vertical-align: top;\n",
       "    }\n",
       "\n",
       "    .dataframe thead th {\n",
       "        text-align: right;\n",
       "    }\n",
       "</style>\n",
       "<table border=\"1\" class=\"dataframe\">\n",
       "  <thead>\n",
       "    <tr style=\"text-align: right;\">\n",
       "      <th></th>\n",
       "      <th>BirthDate</th>\n",
       "      <th>MaritalStatus</th>\n",
       "      <th>YearlyIncome</th>\n",
       "      <th>Gender</th>\n",
       "      <th>TotalChildren</th>\n",
       "      <th>NumberChildrenAtHome</th>\n",
       "      <th>Education</th>\n",
       "      <th>Occupation</th>\n",
       "      <th>HomeOwner</th>\n",
       "      <th>CommuteDistance</th>\n",
       "      <th>NumberOfPurchases</th>\n",
       "      <th>ProfitGenerated</th>\n",
       "    </tr>\n",
       "  </thead>\n",
       "  <tbody>\n",
       "    <tr>\n",
       "      <th>0</th>\n",
       "      <td>08-08-1968 00:00</td>\n",
       "      <td>S</td>\n",
       "      <td>75001-100000</td>\n",
       "      <td>F</td>\n",
       "      <td>5</td>\n",
       "      <td>5</td>\n",
       "      <td>Bachelors</td>\n",
       "      <td>Professional</td>\n",
       "      <td>True</td>\n",
       "      <td>1-2 Miles</td>\n",
       "      <td>5</td>\n",
       "      <td>10351.6657</td>\n",
       "    </tr>\n",
       "    <tr>\n",
       "      <th>1</th>\n",
       "      <td>06-12-1965 00:00</td>\n",
       "      <td>S</td>\n",
       "      <td>50001-75000</td>\n",
       "      <td>F</td>\n",
       "      <td>0</td>\n",
       "      <td>0</td>\n",
       "      <td>Bachelors</td>\n",
       "      <td>Professional</td>\n",
       "      <td>True</td>\n",
       "      <td>5-10 Miles</td>\n",
       "      <td>1</td>\n",
       "      <td>25636.9867</td>\n",
       "    </tr>\n",
       "    <tr>\n",
       "      <th>2</th>\n",
       "      <td>09-05-1964 00:00</td>\n",
       "      <td>M</td>\n",
       "      <td>50001-75000</td>\n",
       "      <td>M</td>\n",
       "      <td>3</td>\n",
       "      <td>3</td>\n",
       "      <td>Bachelors</td>\n",
       "      <td>Professional</td>\n",
       "      <td>True</td>\n",
       "      <td>0-1 Miles</td>\n",
       "      <td>2</td>\n",
       "      <td>9221.5725</td>\n",
       "    </tr>\n",
       "    <tr>\n",
       "      <th>3</th>\n",
       "      <td>07-07-1964 00:00</td>\n",
       "      <td>S</td>\n",
       "      <td>50001-75000</td>\n",
       "      <td>F</td>\n",
       "      <td>4</td>\n",
       "      <td>4</td>\n",
       "      <td>Bachelors</td>\n",
       "      <td>Professional</td>\n",
       "      <td>True</td>\n",
       "      <td>10+ Miles</td>\n",
       "      <td>3</td>\n",
       "      <td>16556.0652</td>\n",
       "    </tr>\n",
       "    <tr>\n",
       "      <th>4</th>\n",
       "      <td>01-04-1964 00:00</td>\n",
       "      <td>S</td>\n",
       "      <td>50001-75000</td>\n",
       "      <td>M</td>\n",
       "      <td>0</td>\n",
       "      <td>0</td>\n",
       "      <td>Bachelors</td>\n",
       "      <td>Professional</td>\n",
       "      <td>False</td>\n",
       "      <td>5-10 Miles</td>\n",
       "      <td>1</td>\n",
       "      <td>27955.7062</td>\n",
       "    </tr>\n",
       "  </tbody>\n",
       "</table>\n",
       "</div>"
      ],
      "text/plain": [
       "          BirthDate MaritalStatus  YearlyIncome Gender  TotalChildren  \\\n",
       "0  08-08-1968 00:00             S  75001-100000      F              5   \n",
       "1  06-12-1965 00:00             S   50001-75000      F              0   \n",
       "2  09-05-1964 00:00             M   50001-75000      M              3   \n",
       "3  07-07-1964 00:00             S   50001-75000      F              4   \n",
       "4  01-04-1964 00:00             S   50001-75000      M              0   \n",
       "\n",
       "   NumberChildrenAtHome   Education    Occupation  HomeOwner CommuteDistance  \\\n",
       "0                     5  Bachelors   Professional       True       1-2 Miles   \n",
       "1                     0  Bachelors   Professional       True      5-10 Miles   \n",
       "2                     3  Bachelors   Professional       True       0-1 Miles   \n",
       "3                     4  Bachelors   Professional       True       10+ Miles   \n",
       "4                     0  Bachelors   Professional      False      5-10 Miles   \n",
       "\n",
       "   NumberOfPurchases  ProfitGenerated  \n",
       "0                  5       10351.6657  \n",
       "1                  1       25636.9867  \n",
       "2                  2        9221.5725  \n",
       "3                  3       16556.0652  \n",
       "4                  1       27955.7062  "
      ]
     },
     "execution_count": 7,
     "metadata": {},
     "output_type": "execute_result"
    }
   ],
   "source": [
    "data.head()"
   ]
  },
  {
   "cell_type": "code",
   "execution_count": 8,
   "metadata": {},
   "outputs": [],
   "source": [
    "data['BirthDate'] = pd.to_datetime(data['BirthDate'])"
   ]
  },
  {
   "cell_type": "code",
   "execution_count": 9,
   "metadata": {},
   "outputs": [
    {
     "data": {
      "text/html": [
       "<div>\n",
       "<style scoped>\n",
       "    .dataframe tbody tr th:only-of-type {\n",
       "        vertical-align: middle;\n",
       "    }\n",
       "\n",
       "    .dataframe tbody tr th {\n",
       "        vertical-align: top;\n",
       "    }\n",
       "\n",
       "    .dataframe thead th {\n",
       "        text-align: right;\n",
       "    }\n",
       "</style>\n",
       "<table border=\"1\" class=\"dataframe\">\n",
       "  <thead>\n",
       "    <tr style=\"text-align: right;\">\n",
       "      <th></th>\n",
       "      <th>BirthDate</th>\n",
       "      <th>MaritalStatus</th>\n",
       "      <th>YearlyIncome</th>\n",
       "      <th>Gender</th>\n",
       "      <th>TotalChildren</th>\n",
       "      <th>NumberChildrenAtHome</th>\n",
       "      <th>Education</th>\n",
       "      <th>Occupation</th>\n",
       "      <th>HomeOwner</th>\n",
       "      <th>CommuteDistance</th>\n",
       "      <th>NumberOfPurchases</th>\n",
       "      <th>ProfitGenerated</th>\n",
       "    </tr>\n",
       "  </thead>\n",
       "  <tbody>\n",
       "    <tr>\n",
       "      <th>0</th>\n",
       "      <td>1968-08-08</td>\n",
       "      <td>S</td>\n",
       "      <td>75001-100000</td>\n",
       "      <td>F</td>\n",
       "      <td>5</td>\n",
       "      <td>5</td>\n",
       "      <td>Bachelors</td>\n",
       "      <td>Professional</td>\n",
       "      <td>True</td>\n",
       "      <td>1-2 Miles</td>\n",
       "      <td>5</td>\n",
       "      <td>10351.6657</td>\n",
       "    </tr>\n",
       "    <tr>\n",
       "      <th>1</th>\n",
       "      <td>1965-06-12</td>\n",
       "      <td>S</td>\n",
       "      <td>50001-75000</td>\n",
       "      <td>F</td>\n",
       "      <td>0</td>\n",
       "      <td>0</td>\n",
       "      <td>Bachelors</td>\n",
       "      <td>Professional</td>\n",
       "      <td>True</td>\n",
       "      <td>5-10 Miles</td>\n",
       "      <td>1</td>\n",
       "      <td>25636.9867</td>\n",
       "    </tr>\n",
       "    <tr>\n",
       "      <th>2</th>\n",
       "      <td>1964-09-05</td>\n",
       "      <td>M</td>\n",
       "      <td>50001-75000</td>\n",
       "      <td>M</td>\n",
       "      <td>3</td>\n",
       "      <td>3</td>\n",
       "      <td>Bachelors</td>\n",
       "      <td>Professional</td>\n",
       "      <td>True</td>\n",
       "      <td>0-1 Miles</td>\n",
       "      <td>2</td>\n",
       "      <td>9221.5725</td>\n",
       "    </tr>\n",
       "    <tr>\n",
       "      <th>3</th>\n",
       "      <td>1964-07-07</td>\n",
       "      <td>S</td>\n",
       "      <td>50001-75000</td>\n",
       "      <td>F</td>\n",
       "      <td>4</td>\n",
       "      <td>4</td>\n",
       "      <td>Bachelors</td>\n",
       "      <td>Professional</td>\n",
       "      <td>True</td>\n",
       "      <td>10+ Miles</td>\n",
       "      <td>3</td>\n",
       "      <td>16556.0652</td>\n",
       "    </tr>\n",
       "    <tr>\n",
       "      <th>4</th>\n",
       "      <td>1964-01-04</td>\n",
       "      <td>S</td>\n",
       "      <td>50001-75000</td>\n",
       "      <td>M</td>\n",
       "      <td>0</td>\n",
       "      <td>0</td>\n",
       "      <td>Bachelors</td>\n",
       "      <td>Professional</td>\n",
       "      <td>False</td>\n",
       "      <td>5-10 Miles</td>\n",
       "      <td>1</td>\n",
       "      <td>27955.7062</td>\n",
       "    </tr>\n",
       "  </tbody>\n",
       "</table>\n",
       "</div>"
      ],
      "text/plain": [
       "   BirthDate MaritalStatus  YearlyIncome Gender  TotalChildren  \\\n",
       "0 1968-08-08             S  75001-100000      F              5   \n",
       "1 1965-06-12             S   50001-75000      F              0   \n",
       "2 1964-09-05             M   50001-75000      M              3   \n",
       "3 1964-07-07             S   50001-75000      F              4   \n",
       "4 1964-01-04             S   50001-75000      M              0   \n",
       "\n",
       "   NumberChildrenAtHome   Education    Occupation  HomeOwner CommuteDistance  \\\n",
       "0                     5  Bachelors   Professional       True       1-2 Miles   \n",
       "1                     0  Bachelors   Professional       True      5-10 Miles   \n",
       "2                     3  Bachelors   Professional       True       0-1 Miles   \n",
       "3                     4  Bachelors   Professional       True       10+ Miles   \n",
       "4                     0  Bachelors   Professional      False      5-10 Miles   \n",
       "\n",
       "   NumberOfPurchases  ProfitGenerated  \n",
       "0                  5       10351.6657  \n",
       "1                  1       25636.9867  \n",
       "2                  2        9221.5725  \n",
       "3                  3       16556.0652  \n",
       "4                  1       27955.7062  "
      ]
     },
     "execution_count": 9,
     "metadata": {},
     "output_type": "execute_result"
    }
   ],
   "source": [
    "data.head()"
   ]
  },
  {
   "cell_type": "code",
   "execution_count": 10,
   "metadata": {},
   "outputs": [
    {
     "name": "stderr",
     "output_type": "stream",
     "text": [
      "<ipython-input-10-6ebdfbd4b31e>:1: FutureWarning: Treating datetime data as categorical rather than numeric in `.describe` is deprecated and will be removed in a future version of pandas. Specify `datetime_is_numeric=True` to silence this warning and adopt the future behavior now.\n",
      "  data.BirthDate.describe()\n"
     ]
    },
    {
     "data": {
      "text/plain": [
       "count                   10000\n",
       "unique                   6105\n",
       "top       1965-08-27 00:00:00\n",
       "freq                        8\n",
       "first     1910-08-13 00:00:00\n",
       "last      1980-12-26 00:00:00\n",
       "Name: BirthDate, dtype: object"
      ]
     },
     "execution_count": 10,
     "metadata": {},
     "output_type": "execute_result"
    }
   ],
   "source": [
    "data.BirthDate.describe()"
   ]
  },
  {
   "cell_type": "code",
   "execution_count": 13,
   "metadata": {},
   "outputs": [
    {
     "data": {
      "text/plain": [
       "count     10000\n",
       "unique        2\n",
       "top           M\n",
       "freq       5363\n",
       "Name: MaritalStatus, dtype: object"
      ]
     },
     "execution_count": 13,
     "metadata": {},
     "output_type": "execute_result"
    }
   ],
   "source": [
    "data.MaritalStatus.describe()"
   ]
  },
  {
   "cell_type": "code",
   "execution_count": 30,
   "metadata": {},
   "outputs": [
    {
     "data": {
      "image/png": "[encoded data removed]",
      "text/plain": [
       "<Figure size 432x288 with 1 Axes>"
      ]
     },
     "metadata": {
      "needs_background": "light"
     },
     "output_type": "display_data"
    }
   ],
   "source": [
    "data.MaritalStatus.value_counts()\n",
    "\n",
    "data.MaritalStatus.value_counts().plot.barh()\n",
    "plt.title('')\n",
    "plt.xlabel('Count')\n",
    "plt.ylabel('MaritalStatus')\n",
    "plt.show()"
   ]
  },
  {
   "cell_type": "code",
   "execution_count": 25,
   "metadata": {},
   "outputs": [
    {
     "data": {
      "text/plain": [
       "count           10000\n",
       "unique              5\n",
       "top       50001-75000\n",
       "freq             2871\n",
       "Name: YearlyIncome, dtype: object"
      ]
     },
     "execution_count": 25,
     "metadata": {},
     "output_type": "execute_result"
    }
   ],
   "source": [
    "data.YearlyIncome.describe()"
   ]
  },
  {
   "cell_type": "code",
   "execution_count": 27,
   "metadata": {},
   "outputs": [
    {
     "data": {
      "image/png": "[encoded data removed]",
      "text/plain": [
       "<Figure size 432x288 with 1 Axes>"
      ]
     },
     "metadata": {
      "needs_background": "light"
     },
     "output_type": "display_data"
    }
   ],
   "source": [
    "data.YearlyIncome.value_counts()\n",
    "\n",
    "data.YearlyIncome.value_counts().plot.barh()\n",
    "plt.title('')\n",
    "plt.xlabel('Count')\n",
    "plt.ylabel('YearlyIncome')\n",
    "plt.show()"
   ]
  },
  {
   "cell_type": "code",
   "execution_count": 88,
   "metadata": {},
   "outputs": [
    {
     "data": {
      "text/plain": [
       "count            10000\n",
       "unique               5\n",
       "top       Professional\n",
       "freq              3345\n",
       "Name: Occupation, dtype: object"
      ]
     },
     "execution_count": 88,
     "metadata": {},
     "output_type": "execute_result"
    }
   ],
   "source": [
    "data.Occupation.describe()"
   ]
  },
  {
   "cell_type": "code",
   "execution_count": 55,
   "metadata": {},
   "outputs": [
    {
     "data": {
      "image/png": "[encoded data removed]",
      "text/plain": [
       "<Figure size 432x288 with 1 Axes>"
      ]
     },
     "metadata": {
      "needs_background": "light"
     },
     "output_type": "display_data"
    }
   ],
   "source": [
    "# Let's calculate the percentage of each Occupation status category.\n",
    "\n",
    "data.Occupation.value_counts()\n",
    "\n",
    "#plot the bar graph of percentage Occupation categories\n",
    "\n",
    "data.Occupation.value_counts().plot.barh()\n",
    "plt.title('')\n",
    "plt.xlabel('Count')\n",
    "plt.ylabel('Occupation')\n",
    "plt.show()"
   ]
  },
  {
   "cell_type": "code",
   "execution_count": 89,
   "metadata": {},
   "outputs": [
    {
     "data": {
      "text/plain": [
       "count               10000\n",
       "unique                  5\n",
       "top       Partial College\n",
       "freq                 2947\n",
       "Name: Education, dtype: object"
      ]
     },
     "execution_count": 89,
     "metadata": {},
     "output_type": "execute_result"
    }
   ],
   "source": [
    "data.Education.describe()"
   ]
  },
  {
   "cell_type": "code",
   "execution_count": 39,
   "metadata": {},
   "outputs": [
    {
     "name": "stderr",
     "output_type": "stream",
     "text": [
      "C:\\Users\\acer\\anaconda3\\lib\\site-packages\\pandas\\plotting\\_matplotlib\\core.py:1547: MatplotlibDeprecationWarning: normalize=None does not normalize if the sum is less than 1 but this behavior is deprecated since 3.3 until two minor releases later. After the deprecation period the default value will be normalize=True. To prevent normalization pass normalize=False \n",
      "  results = ax.pie(y, labels=blabels, **kwds)\n"
     ]
    },
    {
     "data": {
      "image/png": "[encoded data removed]",
      "text/plain": [
       "<Figure size 432x288 with 1 Axes>"
      ]
     },
     "metadata": {},
     "output_type": "display_data"
    }
   ],
   "source": [
    "data.Education.value_counts(normalize=True)\n",
    "\n",
    "#plot the pie chart of Education categories\n",
    "data.Education.value_counts(normalize=True).plot.pie()\n",
    "plt.show()"
   ]
  },
  {
   "cell_type": "code",
   "execution_count": 91,
   "metadata": {},
   "outputs": [
    {
     "data": {
      "text/plain": [
       "count     10000\n",
       "unique        2\n",
       "top           M\n",
       "freq       5363\n",
       "Name: MaritalStatus, dtype: object"
      ]
     },
     "execution_count": 91,
     "metadata": {},
     "output_type": "execute_result"
    }
   ],
   "source": [
    "data.MaritalStatus.describe()"
   ]
  },
  {
   "cell_type": "code",
   "execution_count": 53,
   "metadata": {},
   "outputs": [
    {
     "data": {
      "image/png": "[encoded data removed]",
      "text/plain": [
       "<Figure size 432x288 with 1 Axes>"
      ]
     },
     "metadata": {
      "needs_background": "light"
     },
     "output_type": "display_data"
    }
   ],
   "source": [
    "data.MaritalStatus.value_counts()\n",
    "\n",
    "data.MaritalStatus.value_counts().plot.barh()\n",
    "plt.show()"
   ]
  },
  {
   "cell_type": "code",
   "execution_count": 92,
   "metadata": {},
   "outputs": [
    {
     "data": {
      "text/plain": [
       "count     10000\n",
       "unique        2\n",
       "top           M\n",
       "freq       5087\n",
       "Name: Gender, dtype: object"
      ]
     },
     "execution_count": 92,
     "metadata": {},
     "output_type": "execute_result"
    }
   ],
   "source": [
    "data.Gender.describe()"
   ]
  },
  {
   "cell_type": "code",
   "execution_count": 51,
   "metadata": {},
   "outputs": [
    {
     "data": {
      "image/png": "[encoded data removed]",
      "text/plain": [
       "<Figure size 432x288 with 1 Axes>"
      ]
     },
     "metadata": {
      "needs_background": "light"
     },
     "output_type": "display_data"
    }
   ],
   "source": [
    "data.Gender.value_counts()\n",
    "\n",
    "data.Gender.value_counts().plot.barh()\n",
    "plt.show()"
   ]
  },
  {
   "cell_type": "code",
   "execution_count": 93,
   "metadata": {},
   "outputs": [
    {
     "data": {
      "text/plain": [
       "count     10000\n",
       "unique        2\n",
       "top        True\n",
       "freq       6464\n",
       "Name: HomeOwner, dtype: object"
      ]
     },
     "execution_count": 93,
     "metadata": {},
     "output_type": "execute_result"
    }
   ],
   "source": [
    "data.HomeOwner.describe()"
   ]
  },
  {
   "cell_type": "code",
   "execution_count": 50,
   "metadata": {},
   "outputs": [
    {
     "data": {
      "image/png": "[encoded data removed]",
      "text/plain": [
       "<Figure size 432x288 with 1 Axes>"
      ]
     },
     "metadata": {},
     "output_type": "display_data"
    }
   ],
   "source": [
    "data.HomeOwner.value_counts()\n",
    "data.HomeOwner.value_counts().plot.pie()\n",
    "plt.show()"
   ]
  },
  {
   "cell_type": "code",
   "execution_count": 2,
   "metadata": {},
   "outputs": [
    {
     "ename": "NameError",
     "evalue": "name 'data' is not defined",
     "output_type": "error",
     "traceback": [
      "\u001b[1;31m---------------------------------------------------------------------------\u001b[0m",
      "\u001b[1;31mNameError\u001b[0m                                 Traceback (most recent call last)",
      "\u001b[1;32m<ipython-input-2-6ebdfbd4b31e>\u001b[0m in \u001b[0;36m<module>\u001b[1;34m\u001b[0m\n\u001b[1;32m----> 1\u001b[1;33m \u001b[0mdata\u001b[0m\u001b[1;33m.\u001b[0m\u001b[0mBirthDate\u001b[0m\u001b[1;33m.\u001b[0m\u001b[0mdescribe\u001b[0m\u001b[1;33m(\u001b[0m\u001b[1;33m)\u001b[0m\u001b[1;33m\u001b[0m\u001b[1;33m\u001b[0m\u001b[0m\n\u001b[0m",
      "\u001b[1;31mNameError\u001b[0m: name 'data' is not defined"
     ]
    }
   ],
   "source": [
    "data.BirthDate.describe()"
   ]
  },
  {
   "cell_type": "code",
   "execution_count": null,
   "metadata": {},
   "outputs": [],
   "source": [
    "data.BirthDate.value_counts()\n",
    "\n",
    "data.BirthDate.value_counts().plot.barh()\n",
    "plt.show()"
   ]
  },
  {
   "cell_type": "code",
   "execution_count": 3,
   "metadata": {},
   "outputs": [
    {
     "ename": "NameError",
     "evalue": "name 'data' is not defined",
     "output_type": "error",
     "traceback": [
      "\u001b[1;31m---------------------------------------------------------------------------\u001b[0m",
      "\u001b[1;31mNameError\u001b[0m                                 Traceback (most recent call last)",
      "\u001b[1;32m<ipython-input-3-acc511b665d6>\u001b[0m in \u001b[0;36m<module>\u001b[1;34m\u001b[0m\n\u001b[1;32m----> 1\u001b[1;33m \u001b[0mdata\u001b[0m\u001b[1;33m.\u001b[0m\u001b[0mYearlyIncome\u001b[0m\u001b[1;33m.\u001b[0m\u001b[0mdescribe\u001b[0m\u001b[1;33m(\u001b[0m\u001b[1;33m)\u001b[0m\u001b[1;33m\u001b[0m\u001b[1;33m\u001b[0m\u001b[0m\n\u001b[0m",
      "\u001b[1;31mNameError\u001b[0m: name 'data' is not defined"
     ]
    }
   ],
   "source": [
    "data.YearlyIncome.describe()"
   ]
  },
  {
   "cell_type": "code",
   "execution_count": 98,
   "metadata": {},
   "outputs": [
    {
     "data": {
      "text/plain": [
       "count    10000.000000\n",
       "mean         2.072700\n",
       "std          1.716132\n",
       "min          0.000000\n",
       "25%          0.000000\n",
       "50%          2.000000\n",
       "75%          4.000000\n",
       "max          5.000000\n",
       "Name: TotalChildren, dtype: float64"
      ]
     },
     "execution_count": 98,
     "metadata": {},
     "output_type": "execute_result"
    }
   ],
   "source": [
    "data.TotalChildren.describe()"
   ]
  },
  {
   "cell_type": "code",
   "execution_count": 95,
   "metadata": {},
   "outputs": [
    {
     "data": {
      "image/png": "[encoded data removed]",
      "text/plain": [
       "<Figure size 432x288 with 1 Axes>"
      ]
     },
     "metadata": {
      "needs_background": "light"
     },
     "output_type": "display_data"
    }
   ],
   "source": [
    "#plot the scatter plot of TotalChildren and NumberOfPurchases variable in data\n",
    "\n",
    "sns.boxplot(x = data.TotalChildren)\n",
    "plt.show()"
   ]
  },
  {
   "cell_type": "code",
   "execution_count": 99,
   "metadata": {},
   "outputs": [
    {
     "data": {
      "text/plain": [
       "count    10000.000000\n",
       "mean         2.251300\n",
       "std          0.998222\n",
       "min          1.000000\n",
       "25%          2.000000\n",
       "50%          2.000000\n",
       "75%          3.000000\n",
       "max          7.000000\n",
       "Name: NumberOfPurchases, dtype: float64"
      ]
     },
     "execution_count": 99,
     "metadata": {},
     "output_type": "execute_result"
    }
   ],
   "source": [
    "data.NumberOfPurchases.describe()"
   ]
  },
  {
   "cell_type": "code",
   "execution_count": 97,
   "metadata": {},
   "outputs": [
    {
     "data": {
      "image/png": "[encoded data removed]",
      "text/plain": [
       "<Figure size 432x288 with 1 Axes>"
      ]
     },
     "metadata": {
      "needs_background": "light"
     },
     "output_type": "display_data"
    }
   ],
   "source": [
    "sns.boxplot(x = data.NumberOfPurchases)\n",
    "plt.show()"
   ]
  },
  {
   "cell_type": "code",
   "execution_count": 100,
   "metadata": {},
   "outputs": [
    {
     "data": {
      "text/plain": [
       "count    10000.000000\n",
       "mean         1.081300\n",
       "std          1.534055\n",
       "min          0.000000\n",
       "25%          0.000000\n",
       "50%          0.000000\n",
       "75%          2.000000\n",
       "max          6.000000\n",
       "Name: NumberChildrenAtHome, dtype: float64"
      ]
     },
     "execution_count": 100,
     "metadata": {},
     "output_type": "execute_result"
    }
   ],
   "source": [
    "data.NumberChildrenAtHome.describe()"
   ]
  },
  {
   "cell_type": "code",
   "execution_count": 101,
   "metadata": {},
   "outputs": [
    {
     "data": {
      "image/png": "[encoded data removed]",
      "text/plain": [
       "<Figure size 432x288 with 1 Axes>"
      ]
     },
     "metadata": {
      "needs_background": "light"
     },
     "output_type": "display_data"
    }
   ],
   "source": [
    "sns.boxplot(x = data.NumberChildrenAtHome)\n",
    "plt.show()"
   ]
  },
  {
   "cell_type": "code",
   "execution_count": 102,
   "metadata": {},
   "outputs": [],
   "source": [
    "# plot the scatter plot of YearlyIncome and ProfitGenerated variable in data\n",
    "\n"
   ]
  },
  {
   "cell_type": "code",
   "execution_count": null,
   "metadata": {},
   "outputs": [],
   "source": []
  },
  {
   "cell_type": "code",
   "execution_count": 81,
   "metadata": {},
   "outputs": [
    {
     "data": {
      "image/png": "[encoded data removed]",
      "text/plain": [
       "<Figure size 720x720 with 20 Axes>"
      ]
     },
     "metadata": {
      "needs_background": "light"
     },
     "output_type": "display_data"
    }
   ],
   "source": [
    "#plot the pair plot of TotalChildren, NumberChildrenAtHome,NumberOfPurchases and ProfitGenerated in data dataframe.\n",
    "\n",
    "sns.pairplot(data = data, vars=['TotalChildren','NumberChildrenAtHome','NumberOfPurchases','ProfitGenerated'])\n",
    "plt.show()"
   ]
  },
  {
   "cell_type": "code",
   "execution_count": 84,
   "metadata": {},
   "outputs": [
    {
     "data": {
      "text/html": [
       "<div>\n",
       "<style scoped>\n",
       "    .dataframe tbody tr th:only-of-type {\n",
       "        vertical-align: middle;\n",
       "    }\n",
       "\n",
       "    .dataframe tbody tr th {\n",
       "        vertical-align: top;\n",
       "    }\n",
       "\n",
       "    .dataframe thead th {\n",
       "        text-align: right;\n",
       "    }\n",
       "</style>\n",
       "<table border=\"1\" class=\"dataframe\">\n",
       "  <thead>\n",
       "    <tr style=\"text-align: right;\">\n",
       "      <th></th>\n",
       "      <th>TotalChildren</th>\n",
       "      <th>NumberChildrenAtHome</th>\n",
       "      <th>NumberOfPurchases</th>\n",
       "      <th>ProfitGenerated</th>\n",
       "    </tr>\n",
       "  </thead>\n",
       "  <tbody>\n",
       "    <tr>\n",
       "      <th>TotalChildren</th>\n",
       "      <td>1.000000</td>\n",
       "      <td>0.584373</td>\n",
       "      <td>0.267399</td>\n",
       "      <td>-0.147054</td>\n",
       "    </tr>\n",
       "    <tr>\n",
       "      <th>NumberChildrenAtHome</th>\n",
       "      <td>0.584373</td>\n",
       "      <td>1.000000</td>\n",
       "      <td>0.393011</td>\n",
       "      <td>0.007766</td>\n",
       "    </tr>\n",
       "    <tr>\n",
       "      <th>NumberOfPurchases</th>\n",
       "      <td>0.267399</td>\n",
       "      <td>0.393011</td>\n",
       "      <td>1.000000</td>\n",
       "      <td>0.399030</td>\n",
       "    </tr>\n",
       "    <tr>\n",
       "      <th>ProfitGenerated</th>\n",
       "      <td>-0.147054</td>\n",
       "      <td>0.007766</td>\n",
       "      <td>0.399030</td>\n",
       "      <td>1.000000</td>\n",
       "    </tr>\n",
       "  </tbody>\n",
       "</table>\n",
       "</div>"
      ],
      "text/plain": [
       "                      TotalChildren  NumberChildrenAtHome  NumberOfPurchases  \\\n",
       "TotalChildren              1.000000              0.584373           0.267399   \n",
       "NumberChildrenAtHome       0.584373              1.000000           0.393011   \n",
       "NumberOfPurchases          0.267399              0.393011           1.000000   \n",
       "ProfitGenerated           -0.147054              0.007766           0.399030   \n",
       "\n",
       "                      ProfitGenerated  \n",
       "TotalChildren               -0.147054  \n",
       "NumberChildrenAtHome         0.007766  \n",
       "NumberOfPurchases            0.399030  \n",
       "ProfitGenerated              1.000000  "
      ]
     },
     "execution_count": 84,
     "metadata": {},
     "output_type": "execute_result"
    }
   ],
   "source": [
    "# Creating a matrix using TotalChildren, NumberChildrenAtHome,NumberOfPurchases, ProfitGenerated as rows and columns\n",
    "\n",
    "data[['TotalChildren','NumberChildrenAtHome','NumberOfPurchases','ProfitGenerated']].corr()\n"
   ]
  },
  {
   "cell_type": "code",
   "execution_count": 85,
   "metadata": {
    "scrolled": true
   },
   "outputs": [
    {
     "data": {
      "image/png": "[encoded data removed]",
      "text/plain": [
       "<Figure size 432x288 with 2 Axes>"
      ]
     },
     "metadata": {
      "needs_background": "light"
     },
     "output_type": "display_data"
    }
   ],
   "source": [
    "#plot the correlation matrix of TotalChildren, NumberChildrenAtHome,NumberOfPurchases and ProfitGenerated in data dataframe.\n",
    "\n",
    "sns.heatmap(data[['TotalChildren','NumberChildrenAtHome','NumberOfPurchases','ProfitGenerated']].corr(), annot=True, cmap = 'Reds')\n",
    "plt.show()"
   ]
  },
  {
   "cell_type": "code",
   "execution_count": 86,
   "metadata": {},
   "outputs": [
    {
     "data": {
      "text/plain": [
       "count    10000.000000\n",
       "mean     12510.868637\n",
       "std       9010.860651\n",
       "min        796.144900\n",
       "25%       5789.984275\n",
       "50%      10622.392900\n",
       "75%      17224.608875\n",
       "max      61196.765400\n",
       "Name: ProfitGenerated, dtype: float64"
      ]
     },
     "execution_count": 86,
     "metadata": {},
     "output_type": "execute_result"
    }
   ],
   "source": [
    "data.ProfitGenerated.describe()"
   ]
  },
  {
   "cell_type": "code",
   "execution_count": 34,
   "metadata": {},
   "outputs": [
    {
     "ename": "TypeError",
     "evalue": "'DataFrame' object is not callable",
     "output_type": "error",
     "traceback": [
      "\u001b[1;31m---------------------------------------------------------------------------\u001b[0m",
      "\u001b[1;31mTypeError\u001b[0m                                 Traceback (most recent call last)",
      "\u001b[1;32m<ipython-input-34-b9cd7502fb56>\u001b[0m in \u001b[0;36m<module>\u001b[1;34m\u001b[0m\n\u001b[1;32m----> 1\u001b[1;33m \u001b[0mdata\u001b[0m\u001b[1;33m(\u001b[0m\u001b[1;33m[\u001b[0m\u001b[1;34m'MaritalStatus'\u001b[0m\u001b[1;33m]\u001b[0m\u001b[1;33m,\u001b[0m\u001b[1;33m[\u001b[0m\u001b[1;34m'Gender'\u001b[0m\u001b[1;33m]\u001b[0m\u001b[1;33m)\u001b[0m\u001b[1;33m\u001b[0m\u001b[1;33m\u001b[0m\u001b[0m\n\u001b[0m\u001b[0;32m      2\u001b[0m \u001b[0mdata\u001b[0m\u001b[1;33m.\u001b[0m\u001b[0mplot\u001b[0m\u001b[1;33m.\u001b[0m\u001b[0mbar\u001b[0m\u001b[1;33m(\u001b[0m\u001b[0mx\u001b[0m\u001b[1;33m=\u001b[0m\u001b[1;34m'MaritalStatus'\u001b[0m\u001b[1;33m,\u001b[0m \u001b[0my\u001b[0m\u001b[1;33m=\u001b[0m\u001b[1;34m'Gender'\u001b[0m\u001b[1;33m,\u001b[0m \u001b[0mrot\u001b[0m\u001b[1;33m=\u001b[0m\u001b[1;36m0\u001b[0m\u001b[1;33m)\u001b[0m\u001b[1;33m\u001b[0m\u001b[1;33m\u001b[0m\u001b[0m\n",
      "\u001b[1;31mTypeError\u001b[0m: 'DataFrame' object is not callable"
     ]
    }
   ],
   "source": [
    "data(['MaritalStatus'],['Gender'])\n",
    "data.plot.bar(x='MaritalStatus', y='Gender', rot=0)"
   ]
  },
  {
   "cell_type": "code",
   "execution_count": null,
   "metadata": {},
   "outputs": [],
   "source": []
  }
 ],
 "metadata": {
  "kernelspec": {
   "display_name": "Python 3",
   "language": "python",
   "name": "python3"
  },
  "language_info": {
   "codemirror_mode": {
    "name": "ipython",
    "version": 3
   },
   "file_extension": ".py",
   "mimetype": "text/x-python",
   "name": "python",
   "nbconvert_exporter": "python",
   "pygments_lexer": "ipython3",
   "version": "3.8.5"
  }
 },
 "nbformat": 4,
 "nbformat_minor": 4
}
